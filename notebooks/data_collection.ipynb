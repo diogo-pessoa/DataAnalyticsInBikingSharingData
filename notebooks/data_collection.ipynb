{
 "cells": [
  {
   "cell_type": "code",
   "execution_count": 1,
   "metadata": {
    "collapsed": true,
    "ExecuteTime": {
     "end_time": "2024-02-06T17:46:37.154143Z",
     "start_time": "2024-02-06T17:46:37.143550Z"
    }
   },
   "outputs": [],
   "source": [
    "import os\n",
    "import sys\n",
    "\n",
    "from dotenv import load_dotenv\n",
    "\n",
    "# Load environment variables from a .env file\n",
    "load_dotenv()\n",
    "module_path = os.path.abspath(os.path.join('..'))\n",
    "if module_path not in sys.path:\n",
    "    sys.path.append(module_path)\n",
    "\n",
    "images_path = os.getenv('IMAGES_PATH')\n",
    "data_dir = os.getenv('DATA_COLLECTION_DIR')\n"
   ]
  },
  {
   "cell_type": "code",
   "execution_count": 2,
   "outputs": [],
   "source": [
    "\"\"\"\n",
    "Downloads csv files from the Divvy Bike Share website and saves them to the local file system.\n",
    "\"\"\"\n",
    "\n",
    "from divvy_bike_share_data_analysis.data_loader import load_dataset_to_local_fs\n",
    "from divvy_bike_share_data_analysis.utils_pyspark import load_dataset_to_spark\n",
    "\n",
    "import glob\n",
    "\n",
    "# Collecting data to local directory\n",
    "if not glob.glob(os.path.join(data_dir, '*.csv')):\n",
    "    print('collecting data to local fs')\n",
    "    # load_dataset_to_local_fs(DATA_COLLECTION_DIR, [2020, 2021, 2022, 2023])\n",
    "    # TODO notice to fact that 2020 and 2021, could affect our prediction due to the pandemic (context matters)\n",
    "    load_dataset_to_local_fs(data_dir, [2023])"
   ],
   "metadata": {
    "collapsed": false,
    "ExecuteTime": {
     "end_time": "2024-02-06T17:46:53.542629Z",
     "start_time": "2024-02-06T17:46:53.355239Z"
    }
   }
  },
  {
   "cell_type": "code",
   "execution_count": null,
   "outputs": [],
   "source": [
    "divvy_df = load_dataset_to_spark(data_dir)\n",
    "print(f'loading data to spark: divvy_df {divvy_df.columns}')\n"
   ],
   "metadata": {
    "collapsed": false
   }
  }
 ],
 "metadata": {
  "kernelspec": {
   "display_name": "Python 3",
   "language": "python",
   "name": "python3"
  },
  "language_info": {
   "codemirror_mode": {
    "name": "ipython",
    "version": 2
   },
   "file_extension": ".py",
   "mimetype": "text/x-python",
   "name": "python",
   "nbconvert_exporter": "python",
   "pygments_lexer": "ipython2",
   "version": "2.7.6"
  }
 },
 "nbformat": 4,
 "nbformat_minor": 0
}
