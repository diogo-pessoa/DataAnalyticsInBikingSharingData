{
 "cells": [
  {
   "cell_type": "markdown",
   "source": [
    "[Supervised Learning] Predictive Analysis (Regression)\n",
    "-----\n",
    "\n",
    "Explore a predictive analysis using regression models to improve user experience. Refining the re-stock strategy by considering the bike type per route, to predict the number of bikes needed at each station at different times of the day.\n",
    "\n",
    "* Apply regression models to predict the number of bikes needed at each station at different times of the day.\n",
    "* Bike type per routes, to predict the number of bikes needed at each station at different times of the day."
   ],
   "metadata": {
    "collapsed": false
   }
  },
  {
   "cell_type": "code",
   "execution_count": 4,
   "outputs": [
    {
     "name": "stdout",
     "output_type": "stream",
     "text": [
      "loading data to spark: divvy_df ['ride_id', 'rideable_type', 'started_at', 'ended_at', 'start_station_name', 'start_station_id', 'end_station_name', 'end_station_id', 'start_lat', 'start_lng', 'end_lat', 'end_lng', 'member_casual']\n"
     ]
    },
    {
     "name": "stderr",
     "output_type": "stream",
     "text": [
      "                                                                                \r"
     ]
    },
    {
     "name": "stdout",
     "output_type": "stream",
     "text": [
      "+----------------+-------------+-------------------+-------------------+--------------------+----------------+--------------------+--------------+---------+----------+---------+----------+-------------+\n",
      "|         ride_id|rideable_type|         started_at|           ended_at|  start_station_name|start_station_id|    end_station_name|end_station_id|start_lat| start_lng|  end_lat|   end_lng|member_casual|\n",
      "+----------------+-------------+-------------------+-------------------+--------------------+----------------+--------------------+--------------+---------+----------+---------+----------+-------------+\n",
      "|00003BBE65D7BEBC| classic_bike|2023-04-27 17:50:59|2023-04-27 17:57:06|Bissell St & Armi...|    chargingstx1|Clark St & Armita...|         13146|41.918297| -87.65218|41.918304|-87.636284|       casual|\n",
      "|0001F88A5226AD67|electric_bike|2023-03-20 18:02:43|2023-03-20 18:23:48|Wabash Ave & Wack...|    TA1307000131|Halsted St & 18th St|         13099|41.886753| -87.62609|41.857506| -87.64599|       member|\n",
      "|00029747AFE2502B| classic_bike|2023-02-11 15:55:17|2023-02-11 16:24:59|Clark St & Drummo...|    TA1307000142|Fairbanks Ct & Gr...|  TA1305000003|41.931248| -87.64433|41.891846| -87.62058|       casual|\n",
      "|0003E2868FD7B9D4| classic_bike|2023-09-12 06:36:39|2023-09-12 06:42:13|Dorchester Ave & ...|    KA1503000069|Woodlawn Ave & La...|  KA1503000065| 41.80577| -87.59246|41.814095| -87.59701|       member|\n",
      "|0005C3AB79548FE7| classic_bike|2023-07-08 01:15:07|2023-07-08 01:19:13|Dearborn St & Eri...|           13045|McClurg Ct & Erie St|  KA1503000041|41.893993| -87.62932|41.894505| -87.61785|       member|\n",
      "|0005CF1B24F48C5D| classic_bike|2023-07-22 11:33:18|2023-07-22 11:47:18|Aberdeen St & Jac...|           13157|Kingsbury St & Ki...|  KA1503000043|41.877728|-87.654785|41.889175|-87.638504|       member|\n",
      "|0009C782CCEFD56B| classic_bike|2023-02-18 14:36:47|2023-02-18 15:18:29|Woodlawn Ave & 55...|    TA1307000164|Woodlawn Ave & 55...|  TA1307000164|41.795265| -87.59647|41.795265| -87.59647|       member|\n",
      "|0009D18D450CF859| classic_bike|2023-10-24 20:21:33|2023-10-24 20:57:15| MLK Jr Dr & 29th St|    TA1307000139|     McCormick Place|  TA1305000004|41.842052|   -87.617|41.851376|-87.618835|       member|\n",
      "|0009EAF52A17FB9F|electric_bike|2023-04-15 11:05:19|2023-04-15 11:14:37|Streeter Dr & Gra...|           13022|Columbus Dr & Ran...|         13263|41.892315| -87.61215|41.884727| -87.61952|       member|\n",
      "|000ABE319E970CB6|electric_bike|2023-11-19 11:24:31|2023-11-19 12:28:59|Wells St & Hubbar...|    TA1307000151|   Wells St & Elm St|  KA1504000135|41.889988|-87.634384| 41.90322| -87.63432|       casual|\n",
      "+----------------+-------------+-------------------+-------------------+--------------------+----------------+--------------------+--------------+---------+----------+---------+----------+-------------+\n",
      "only showing top 10 rows\n",
      "\n"
     ]
    },
    {
     "name": "stderr",
     "output_type": "stream",
     "text": [
      "                                                                                \r"
     ]
    },
    {
     "name": "stdout",
     "output_type": "stream",
     "text": [
      "loaded sampled_df_with_added_features with 43922 \n",
      " and columns ['end_station_id', 'start_station_id', 'ride_id', 'rideable_type', 'started_at', 'ended_at', 'start_lat', 'start_lng', 'end_lat', 'end_lng', 'member_casual', 'start_station_name', 'end_station_name', 'day_period', 'week_day']\n"
     ]
    },
    {
     "name": "stderr",
     "output_type": "stream",
     "text": [
      "                                                                                \r"
     ]
    },
    {
     "name": "stdout",
     "output_type": "stream",
     "text": [
      "loaded sampled_df_with_added_features_indexed with 43922 \n",
      " and columns ['end_station_id', 'start_station_id', 'ride_id', 'rideable_type', 'started_at', 'ended_at', 'start_lat', 'start_lng', 'end_lat', 'end_lng', 'member_casual', 'start_station_name', 'end_station_name', 'day_period', 'week_day', 'start_station_id_index', 'end_station_id_index', 'member_casual_index', 'day_period_index', 'week_day_index', 'rideable_type_index']\n"
     ]
    },
    {
     "name": "stderr",
     "output_type": "stream",
     "text": [
      "                                                                                \r"
     ]
    }
   ],
   "source": [
    "%run './feature_engineering.ipynb'"
   ],
   "metadata": {
    "collapsed": false,
    "ExecuteTime": {
     "end_time": "2024-02-06T18:42:33.854346Z",
     "start_time": "2024-02-06T18:38:51.736743Z"
    }
   }
  },
  {
   "cell_type": "code",
   "execution_count": 23,
   "outputs": [
    {
     "name": "stderr",
     "output_type": "stream",
     "text": [
      "[Stage 893:==================================================>     (9 + 1) / 10]\r"
     ]
    },
    {
     "name": "stdout",
     "output_type": "stream",
     "text": [
      "+-------------+\n",
      "|rideable_type|\n",
      "+-------------+\n",
      "|  docked_bike|\n",
      "|electric_bike|\n",
      "| classic_bike|\n",
      "+-------------+\n",
      "\n"
     ]
    },
    {
     "name": "stderr",
     "output_type": "stream",
     "text": [
      "                                                                                \r"
     ]
    }
   ],
   "source": [
    "sampled_df_with_added_features.select('rideable_type').distinct().show()\n"
   ],
   "metadata": {
    "collapsed": false,
    "ExecuteTime": {
     "end_time": "2024-02-06T19:26:31.498585Z",
     "start_time": "2024-02-06T19:26:18.541674Z"
    }
   }
  },
  {
   "cell_type": "code",
   "execution_count": 24,
   "outputs": [],
   "source": [
    "\"\"\" rideable_type - 0: classic_bike, 1: docked_bike, 2: electric_bike\n",
    "We'll discard the docked_bike type as it's not relevant for the predictive analysis of the number of bikes needed at each station at different times of the day.\"\"\"\n",
    "sampled_df_with_added_features_indexed = sampled_df_with_added_features_indexed.filter(sampled_df_with_added_features['rideable_type'] != 'docked_bike')"
   ],
   "metadata": {
    "collapsed": false,
    "ExecuteTime": {
     "end_time": "2024-02-06T19:27:45.337909Z",
     "start_time": "2024-02-06T19:27:45.318902Z"
    }
   }
  },
  {
   "cell_type": "code",
   "execution_count": 25,
   "outputs": [
    {
     "name": "stderr",
     "output_type": "stream",
     "text": [
      "                                                                                \r"
     ]
    },
    {
     "name": "stdout",
     "output_type": "stream",
     "text": [
      "Accuracy: 0.6310561524427326\n"
     ]
    }
   ],
   "source": [
    "# TODO - implement Regression model to predict the duration of the trip\n",
    "\n",
    "from pyspark.ml.feature import VectorAssembler, StandardScaler\n",
    "from pyspark.ml.classification import LogisticRegression\n",
    "from pyspark.ml import Pipeline\n",
    "from pyspark.ml.evaluation import MulticlassClassificationEvaluator\n",
    "\n",
    "# Filtering by workdays to reduce the data size and improve the model's performance\n",
    "df_workdays = sampled_df_with_added_features_indexed.filter(sampled_df_with_added_features_indexed['week_day'] == 'Workday')\n",
    "features = ['day_period_index', 'start_station_id_index', 'end_station_id_index']\n",
    "\n",
    "# Create a VectorAssembler to combine the features into a single vector column\n",
    "assembler = VectorAssembler(inputCols=features, outputCol=\"features\")\n",
    "\n",
    "# Scale the features\n",
    "scaler = StandardScaler(inputCol=\"features\", outputCol=\"scaled_features\")\n",
    "\n",
    "# Initialize the GBTClassifier\n",
    "log_reg = LogisticRegression(labelCol=\"rideable_type_index\", featuresCol=\"features\", maxIter=10, family=\"multinomial\")\n",
    "\n",
    "# Define the pipeline\n",
    "pipeline = Pipeline(stages=[assembler, scaler, log_reg])\n",
    "\n",
    "# Split the data into training and testing sets\n",
    "(train_data, test_data) = df_workdays.randomSplit([0.8, 0.2])\n",
    "\n",
    "# Train the model\n",
    "model = pipeline.fit(train_data)\n",
    "\n",
    "# Make predictions based on test data split\n",
    "predictions = model.transform(test_data)\n",
    "\n",
    "# Evaluate the model\n",
    "evaluator = MulticlassClassificationEvaluator(labelCol=\"rideable_type_index\", predictionCol=\"prediction\", metricName=\"accuracy\")\n",
    "accuracy = evaluator.evaluate(predictions)\n",
    "print(f\"Accuracy: {accuracy}\")\n"
   ],
   "metadata": {
    "collapsed": false,
    "ExecuteTime": {
     "end_time": "2024-02-06T19:30:33.497204Z",
     "start_time": "2024-02-06T19:27:47.601522Z"
    }
   }
  },
  {
   "cell_type": "code",
   "execution_count": 17,
   "outputs": [
    {
     "name": "stderr",
     "output_type": "stream",
     "text": [
      "                                                                                \r"
     ]
    },
    {
     "name": "stdout",
     "output_type": "stream",
     "text": [
      "Precision: 0.5917046162075343\n",
      "Recall: 0.6233582541927662\n"
     ]
    }
   ],
   "source": [
    "from pyspark.ml.evaluation import MulticlassClassificationEvaluator\n",
    "\n",
    "# Precision and Recall\n",
    "precision = evaluator.evaluate(predictions, {evaluator.metricName: \"weightedPrecision\"})\n",
    "recall = evaluator.evaluate(predictions, {evaluator.metricName: \"weightedRecall\"})\n",
    "print(f\"Precision: {precision}\")\n",
    "print(f\"Recall: {recall}\")\n"
   ],
   "metadata": {
    "collapsed": false,
    "ExecuteTime": {
     "end_time": "2024-02-06T19:20:10.800762Z",
     "start_time": "2024-02-06T19:19:06.636455Z"
    }
   }
  },
  {
   "cell_type": "code",
   "execution_count": 18,
   "outputs": [
    {
     "name": "stderr",
     "output_type": "stream",
     "text": [
      "                                                                                \r"
     ]
    },
    {
     "name": "stdout",
     "output_type": "stream",
     "text": [
      "+-------------------+----+---+---+---+\n",
      "|rideable_type_index|   0|  1|  2|  3|\n",
      "+-------------------+----+---+---+---+\n",
      "|                0.0|2992| 70|  0|  0|\n",
      "|                1.0|1715| 93|  0|  0|\n",
      "|                2.0|  76|  3|  0|  0|\n",
      "+-------------------+----+---+---+---+\n",
      "\n"
     ]
    }
   ],
   "source": [
    "from pyspark.sql.functions import col\n",
    "\n",
    "# Generate confusion matrix\n",
    "confusion_matrix = predictions.groupBy('rideable_type_index').pivot('prediction', [0, 1, 2, 3]).count().na.fill(0).orderBy('rideable_type_index')\n",
    "confusion_matrix.show()\n"
   ],
   "metadata": {
    "collapsed": false,
    "ExecuteTime": {
     "end_time": "2024-02-06T19:22:26.539876Z",
     "start_time": "2024-02-06T19:21:53.809169Z"
    }
   }
  },
  {
   "cell_type": "code",
   "execution_count": 19,
   "outputs": [
    {
     "name": "stderr",
     "output_type": "stream",
     "text": [
      "                                                                                \r"
     ]
    },
    {
     "data": {
      "text/plain": "<Figure size 1000x800 with 2 Axes>",
      "image/png": "[encoded data removed]"
     },
     "metadata": {},
     "output_type": "display_data"
    }
   ],
   "source": [
    "import numpy as np\n",
    "import seaborn as sns\n",
    "import matplotlib.pyplot as plt\n",
    "\n",
    "# Collect the confusion matrix data\n",
    "cm_data = confusion_matrix.toPandas()\n",
    "cm_data = cm_data.set_index('rideable_type_index')\n",
    "\n",
    "# Convert to numpy for plotting\n",
    "cm_array = np.array(cm_data)\n",
    "\n",
    "plt.figure(figsize=(10, 8))\n",
    "sns.heatmap(cm_array, annot=True, fmt='d', cmap='Blues', xticklabels=range(5), yticklabels=range(5))\n",
    "plt.title('Confusion Matrix')\n",
    "plt.xlabel('Predicted Label')\n",
    "plt.ylabel('True Label')\n",
    "plt.savefig(os.path.join(image_path,'confusion_matrix.png'))\n",
    "plt.show()\n"
   ],
   "metadata": {
    "collapsed": false,
    "ExecuteTime": {
     "end_time": "2024-02-06T19:23:07.698527Z",
     "start_time": "2024-02-06T19:22:33.779994Z"
    }
   }
  },
  {
   "cell_type": "code",
   "execution_count": null,
   "outputs": [],
   "source": [],
   "metadata": {
    "collapsed": false
   }
  }
 ],
 "metadata": {
  "kernelspec": {
   "display_name": "Python 3",
   "language": "python",
   "name": "python3"
  },
  "language_info": {
   "codemirror_mode": {
    "name": "ipython",
    "version": 2
   },
   "file_extension": ".py",
   "mimetype": "text/x-python",
   "name": "python",
   "nbconvert_exporter": "python",
   "pygments_lexer": "ipython2",
   "version": "2.7.6"
  }
 },
 "nbformat": 4,
 "nbformat_minor": 0
}
