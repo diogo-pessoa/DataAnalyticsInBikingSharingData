{
 "cells": [
  {
   "cell_type": "markdown",
   "source": [
    "Supervisor Process to manage the workers.\n",
    "---\n",
    "\n",
    "Workers in this contexts are other Jupyter notebooks with smaller scope of work.\n"
   ],
   "metadata": {
    "collapsed": false
   }
  },
  {
   "cell_type": "code",
   "execution_count": 1,
   "outputs": [],
   "source": [
    "import os\n",
    "import sys\n",
    "\n",
    "from dotenv import load_dotenv\n",
    "\n",
    "# Load environment variables from a .env file\n",
    "load_dotenv()\n",
    "images_path = os.getenv('IMAGES_PATH')\n",
    "data_dir = os.getenv('DATA_COLLECTION_DIR')\n",
    "\n",
    "# Loading local helper modules\n",
    "module_path = os.path.abspath(os.path.join('..'))\n",
    "if module_path not in sys.path:\n",
    "    sys.path.append(module_path)"
   ],
   "metadata": {
    "collapsed": false,
    "ExecuteTime": {
     "end_time": "2024-02-07T07:31:37.417901Z",
     "start_time": "2024-02-07T07:31:37.395808Z"
    }
   }
  },
  {
   "cell_type": "code",
   "execution_count": 2,
   "outputs": [
    {
     "name": "stderr",
     "output_type": "stream",
     "text": [
      "Setting default log level to \"WARN\".\n",
      "To adjust logging level use sc.setLogLevel(newLevel). For SparkR, use setLogLevel(newLevel).\n",
      "24/02/07 07:31:45 WARN NativeCodeLoader: Unable to load native-hadoop library for your platform... using builtin-java classes where applicable\n"
     ]
    },
    {
     "name": "stdout",
     "output_type": "stream",
     "text": [
      "loading data to spark: divvy_df ['ride_id', 'rideable_type', 'started_at', 'ended_at', 'start_station_name', 'start_station_id', 'end_station_name', 'end_station_id', 'start_lat', 'start_lng', 'end_lat', 'end_lng', 'member_casual']\n"
     ]
    }
   ],
   "source": [
    "\"\"\"\n",
    "Local Dataset from local files (download if not present)\n",
    " :returns divvy_df: DataFrame\n",
    "\"\"\"\n",
    "%run './data_collection.ipynb'"
   ],
   "metadata": {
    "collapsed": false,
    "ExecuteTime": {
     "end_time": "2024-02-07T07:31:48.950900Z",
     "start_time": "2024-02-07T07:31:42.820131Z"
    }
   }
  },
  {
   "cell_type": "code",
   "execution_count": 3,
   "outputs": [
    {
     "name": "stderr",
     "output_type": "stream",
     "text": [
      "                                                                                \r"
     ]
    },
    {
     "name": "stdout",
     "output_type": "stream",
     "text": [
      "+----------------+-------------+-------------------+-------------------+--------------------+----------------+--------------------+--------------+---------+----------+---------+----------+-------------+\n",
      "|         ride_id|rideable_type|         started_at|           ended_at|  start_station_name|start_station_id|    end_station_name|end_station_id|start_lat| start_lng|  end_lat|   end_lng|member_casual|\n",
      "+----------------+-------------+-------------------+-------------------+--------------------+----------------+--------------------+--------------+---------+----------+---------+----------+-------------+\n",
      "|000198F466D0F911| classic_bike|2023-11-30 17:25:07|2023-11-30 18:03:09|  Clark St & Lake St|    KA1503000012|Damen Ave & Clybo...|         13271| 41.88602|-87.630875| 41.93193| -87.67786|       member|\n",
      "|000275B650AA55C6| classic_bike|2023-04-15 20:14:03|2023-04-15 20:31:14| Theater on the Lake|    TA1308000001|Clarendon Ave & L...|  TA1307000119|41.926277| -87.63084|41.967968|    -87.65|       member|\n",
      "|00057465FC96F3F7| classic_bike|2023-09-28 11:25:06|2023-09-28 13:32:04|McClurg Ct & Ohio St|    TA1306000029|Streeter Dr & Gra...|         13022|41.892593| -87.61729|41.892277|-87.612045|       casual|\n",
      "|00065C55F44F79DE|electric_bike|2023-09-25 13:25:40|2023-09-25 13:28:01|  Wells St & Polk St|          SL-011|Franklin St & Jac...|  TA1305000025|41.873123|  -87.6335| 41.87771| -87.63532|       member|\n",
      "|00069CFD4EE1F042| classic_bike|2023-09-13 22:18:49|2023-09-13 22:20:52| Morgan St & Polk St|    TA1307000130|Halsted St & Polk St|  TA1307000121| 41.87174| -87.65103| 41.87184| -87.64664|       member|\n",
      "|0006D7FA50B7C106| classic_bike|2023-05-06 17:33:42|2023-05-06 18:05:45|Peoria St & Jacks...|           13158|Wells St & Concor...|  TA1308000050| 41.87764| -87.64962|41.912132| -87.63466|       member|\n",
      "|00074AF4D96D56ED|electric_bike|2023-09-14 08:48:11|2023-09-14 08:55:42|Elizabeth St & Fu...|           13197|Canal St & Madiso...|         13341|41.886726| -87.65959| 41.88241| -87.63977|       member|\n",
      "|00077793C0353AF3|electric_bike|2023-06-09 23:01:09|2023-06-09 23:27:05|State St & Harris...|          SL-007|Clark St & Ida B ...|  TA1305000009| 41.87397| -87.62768| 41.87593|-87.630585|       casual|\n",
      "|0009B2F0CCB65CF4|electric_bike|2023-08-01 16:36:27|2023-08-01 16:50:24|Franklin St & Jac...|    TA1305000025|Noble St & Milwau...|         13290| 41.87812| -87.63589| 41.90068|  -87.6626|       casual|\n",
      "|000CFAAE787ECD8B| classic_bike|2023-07-10 15:19:37|2023-07-10 15:29:04|State St & Kinzie St|           13050|Clinton St & Jack...|           638|41.889374|-87.627075|41.878315| -87.64098|       member|\n",
      "+----------------+-------------+-------------------+-------------------+--------------------+----------------+--------------------+--------------+---------+----------+---------+----------+-------------+\n",
      "only showing top 10 rows\n",
      "\n"
     ]
    },
    {
     "name": "stderr",
     "output_type": "stream",
     "text": [
      "                                                                                \r"
     ]
    },
    {
     "name": "stdout",
     "output_type": "stream",
     "text": [
      "loaded sampled_df_with_added_features with 43501 \n",
      " and columns ['end_station_id', 'start_station_id', 'ride_id', 'rideable_type', 'started_at', 'ended_at', 'start_lat', 'start_lng', 'end_lat', 'end_lng', 'member_casual', 'start_station_name', 'end_station_name', 'day_period', 'week_day']\n"
     ]
    },
    {
     "name": "stderr",
     "output_type": "stream",
     "text": [
      "                                                                                \r"
     ]
    },
    {
     "name": "stdout",
     "output_type": "stream",
     "text": [
      "loaded sampled_df_with_added_features_indexed with 43501 \n",
      " and columns ['end_station_id', 'start_station_id', 'ride_id', 'rideable_type', 'started_at', 'ended_at', 'start_lat', 'start_lng', 'end_lat', 'end_lng', 'member_casual', 'start_station_name', 'end_station_name', 'day_period', 'week_day', 'start_station_id_index', 'end_station_id_index', 'member_casual_index', 'day_period_index', 'week_day_index', 'rideable_type_index']\n"
     ]
    },
    {
     "data": {
      "text/plain": "'\\nLocal Dataset from local files (download if not present)\\n :returns sampled_df_with_added_features: DataFrame, sampled_df_with_added_features_indexed: DataFrame\\n'"
     },
     "execution_count": 3,
     "metadata": {},
     "output_type": "execute_result"
    }
   ],
   "source": [
    "# features engineering\n",
    "%run './feature_engineering.ipynb'\n",
    "\"\"\"\n",
    "Local Dataset from local files (download if not present)\n",
    " :returns sampled_df_with_added_features: DataFrame, sampled_df_with_added_features_indexed: DataFrame\n",
    "\"\"\""
   ],
   "metadata": {
    "collapsed": false,
    "ExecuteTime": {
     "end_time": "2024-02-07T07:36:16.817819Z",
     "start_time": "2024-02-07T07:32:06.475878Z"
    }
   }
  },
  {
   "cell_type": "code",
   "execution_count": null,
   "outputs": [],
   "source": [
    "# Data Exploration\n",
    "%run './data_exploration.ipynb'"
   ],
   "metadata": {
    "collapsed": false
   }
  },
  {
   "cell_type": "code",
   "execution_count": null,
   "outputs": [],
   "source": [
    "# Regression model training and evaluation\n",
    "%run './regression_model.ipynb'"
   ],
   "metadata": {
    "collapsed": false
   }
  },
  {
   "cell_type": "code",
   "execution_count": null,
   "outputs": [],
   "source": [
    "# sillhouette index score\n",
    "%run './sillhouette_score.ipynb'"
   ],
   "metadata": {
    "collapsed": false
   }
  },
  {
   "cell_type": "code",
   "execution_count": null,
   "outputs": [],
   "source": [
    "# Kmeans clustering\n",
    "%run './kmeans_clustering.ipynb'\n"
   ],
   "metadata": {
    "collapsed": false
   }
  }
 ],
 "metadata": {
  "kernelspec": {
   "display_name": "Python 3",
   "language": "python",
   "name": "python3"
  },
  "language_info": {
   "codemirror_mode": {
    "name": "ipython",
    "version": 2
   },
   "file_extension": ".py",
   "mimetype": "text/x-python",
   "name": "python",
   "nbconvert_exporter": "python",
   "pygments_lexer": "ipython2",
   "version": "2.7.6"
  }
 },
 "nbformat": 4,
 "nbformat_minor": 0
}
