﻿{
 "cells": [
  {
   "cell_type": "code",
   "execution_count": 10,
   "id": "initial_id",
   "metadata": {
    "collapsed": true,
    "ExecuteTime": {
     "end_time": "2024-01-31T19:40:38.957719Z",
     "start_time": "2024-01-31T19:40:37.418537Z"
    }
   },
   "outputs": [
    {
     "name": "stdout",
     "output_type": "stream",
     "text": [
      "root\n",
      " |-- ride_id: string (nullable = true)\n",
      " |-- rideable_type: string (nullable = true)\n",
      " |-- started_at: timestamp (nullable = true)\n",
      " |-- ended_at: timestamp (nullable = true)\n",
      " |-- start_station_name: string (nullable = true)\n",
      " |-- start_station_id: string (nullable = true)\n",
      " |-- end_station_name: string (nullable = true)\n",
      " |-- end_station_id: string (nullable = true)\n",
      " |-- start_lat: float (nullable = true)\n",
      " |-- start_lng: float (nullable = true)\n",
      " |-- end_lat: float (nullable = true)\n",
      " |-- end_lng: float (nullable = true)\n",
      " |-- member_casual: string (nullable = true)\n",
      "\n",
      "None\n"
     ]
    }
   ],
   "source": [
    "from divvy_bike_share_data_analysis import data_loader, \\\n",
    "    utils_pyspark\n",
    "\n",
    "# Collecting data to local directory\n",
    "DATA_COLLECTION_DIR: str = '/Users/macbook/code/TechProject1/data_collection/'\n",
    "# data_loader.load_dataset_to_local_fs(DATA_COLLECTION_DIR, [2020, 2021, 2022, 2023])\n",
    "\n",
    "# creating pyspark session and pre-processing data\n",
    "divvy_df = utils_pyspark.load_data(DATA_COLLECTION_DIR)"
   ]
  },
  {
   "cell_type": "code",
   "execution_count": 11,
   "outputs": [
    {
     "data": {
      "text/plain": "Row(ride_id='ride_id', rideable_type='rideable_type', started_at=None, ended_at=None, start_station_name='start_station_name', start_station_id='start_station_id', end_station_name='end_station_name', end_station_id='end_station_id', start_lat=None, start_lng=None, end_lat=None, end_lng=None, member_casual='member_casual')"
     },
     "execution_count": 11,
     "metadata": {},
     "output_type": "execute_result"
    }
   ],
   "source": [
    "divvy_df.head()"
   ],
   "metadata": {
    "collapsed": false,
    "ExecuteTime": {
     "end_time": "2024-01-31T19:40:47.986938Z",
     "start_time": "2024-01-31T19:40:46.067519Z"
    }
   },
   "id": "118638323dbf9bc3"
  },
  {
   "cell_type": "code",
   "execution_count": 12,
   "outputs": [
    {
     "data": {
      "text/plain": "['ride_id',\n 'rideable_type',\n 'started_at',\n 'ended_at',\n 'start_station_name',\n 'start_station_id',\n 'end_station_name',\n 'end_station_id',\n 'start_lat',\n 'start_lng',\n 'end_lat',\n 'end_lng',\n 'member_casual']"
     },
     "execution_count": 12,
     "metadata": {},
     "output_type": "execute_result"
    }
   ],
   "source": [
    "sampled_df = divvy_df.sample(withReplacement=False, fraction=0.01)\n",
    "sampled_df.columns"
   ],
   "metadata": {
    "collapsed": false,
    "ExecuteTime": {
     "end_time": "2024-01-31T19:40:51.463163Z",
     "start_time": "2024-01-31T19:40:51.384538Z"
    }
   },
   "id": "30f56f396c315724"
  },
  {
   "cell_type": "code",
   "execution_count": 13,
   "outputs": [
    {
     "name": "stderr",
     "output_type": "stream",
     "text": [
      "                                                                                \r"
     ]
    },
    {
     "data": {
      "text/plain": "194400"
     },
     "execution_count": 13,
     "metadata": {},
     "output_type": "execute_result"
    }
   ],
   "source": [
    "sampled_df.count()"
   ],
   "metadata": {
    "collapsed": false,
    "ExecuteTime": {
     "end_time": "2024-01-31T19:41:41.992499Z",
     "start_time": "2024-01-31T19:40:55.447747Z"
    }
   },
   "id": "5d67e88a67ef6b9f"
  },
  {
   "cell_type": "code",
   "execution_count": 14,
   "outputs": [],
   "source": [
    "start_stations = sampled_df.select('start_station_name', 'start_station_id').distinct()\n",
    "end_stations = sampled_df.select('end_station_name', 'end_station_id').distinct()\n",
    "grouped_stations_by_id = start_stations.join(end_stations, start_stations.start_station_id == end_stations.end_station_id)"
   ],
   "metadata": {
    "collapsed": false,
    "ExecuteTime": {
     "end_time": "2024-01-31T19:41:42.314849Z",
     "start_time": "2024-01-31T19:41:41.938098Z"
    }
   },
   "id": "4376ffca57e9a032"
  },
  {
   "cell_type": "code",
   "execution_count": 15,
   "outputs": [
    {
     "name": "stderr",
     "output_type": "stream",
     "text": [
      "                                                                                \r"
     ]
    },
    {
     "name": "stdout",
     "output_type": "stream",
     "text": [
      "+--------------------+----------------+--------------------+--------------+\n",
      "|  start_station_name|start_station_id|    end_station_name|end_station_id|\n",
      "+--------------------+----------------+--------------------+--------------+\n",
      "|Wells St & Walton St|    TA1306000011|Wells St & Walton St|  TA1306000011|\n",
      "|Western Ave & Con...|           15668|Western Ave & Con...|         15668|\n",
      "|    May St & 69th St|             567|    May St & 69th St|           567|\n",
      "|Talman Ave & Addi...|             491|Public Rack - Ked...|           491|\n",
      "|Public Rack - Ked...|             491|Public Rack - Ked...|           491|\n",
      "|Indiana Ave & Roo...|          SL-005|Indiana Ave & Roo...|        SL-005|\n",
      "|Wabash Ave & 16th St|          SL-012|Wabash Ave & 16th St|        SL-012|\n",
      "|   Wood St & 35th St|    KA1503000066|   Wood St & 35th St|  KA1503000066|\n",
      "|Campbell Ave & Fu...|             504|Public Rack - Mil...|           504|\n",
      "|Milwaukee Ave & D...|             504|Public Rack - Mil...|           504|\n",
      "|Public Rack - Mil...|             504|Public Rack - Mil...|           504|\n",
      "|Wood St & Augusta...|             657|Wood St & Augusta...|           657|\n",
      "|   Malcolm X College|             631|Malcolm X College...|           631|\n",
      "|Malcolm X College...|             631|Malcolm X College...|           631|\n",
      "|Clark St & Leland...|    TA1309000014|Clark St & Leland...|  TA1309000014|\n",
      "|Calumet Ave & 51s...|           15470|Calumet Ave & 51s...|         15470|\n",
      "|Sheridan Rd & Law...|    TA1309000041|Sheridan Rd & Law...|  TA1309000041|\n",
      "|Ritchie Ct & Bank...|    KA1504000134|Ritchie Ct & Bank...|  KA1504000134|\n",
      "|Green St & Madiso...|    TA1307000120|Green St & Madiso...|  TA1307000120|\n",
      "|Cherry Ave & Blac...|           18069|Cherry Ave & Blac...|         18069|\n",
      "|Lake Park Ave & 3...|    KA1503000004|Lake Park Ave & 3...|  KA1503000004|\n",
      "|Ashland Ave & Div...|           13061|Ashland Ave & Div...|         13061|\n",
      "|Austin Blvd & Mad...|           16918|Austin Blvd & Mad...|         16918|\n",
      "|Lincoln Ave & Mel...|    TA1309000042|Lincoln Ave & Bel...|  TA1309000042|\n",
      "|Lincoln Ave & Bel...|    TA1309000042|Lincoln Ave & Bel...|  TA1309000042|\n",
      "|Lincoln Ave & Bel...|    TA1309000042|Lincoln Ave & Bel...|  TA1309000042|\n",
      "|Damen Ave & Melro...|           13143|Damen Ave & Melro...|         13143|\n",
      "|Stewart Ave & 63r...|             649|Stewart Ave & 63r...|           649|\n",
      "|Public Rack - Ada...|             620|Orleans St & Ches...|           620|\n",
      "|Orleans St & Ches...|             620|Orleans St & Ches...|           620|\n",
      "|Clark St & Wellin...|    TA1307000136|Clark St & Wellin...|  TA1307000136|\n",
      "|Racine Ave & Cong...|    TA1306000025|Racine Ave & Cong...|  TA1306000025|\n",
      "|California Ave & ...|           13084|California Ave & ...|         13084|\n",
      "|Halsted St & Maxw...|    TA1309000001|Halsted St & Maxw...|  TA1309000001|\n",
      "| Morgan St & 31st St|    TA1308000046| Morgan St & 31st St|  TA1308000046|\n",
      "|Franklin St & Chi...|           13017|Franklin St & Chi...|         13017|\n",
      "|Ogden Ave & Chica...|    TA1305000020|Ogden Ave & Chica...|  TA1305000020|\n",
      "|Cottage Grove Ave...|             429|Francisco Ave & B...|           429|\n",
      "|Francisco Ave & B...|             429|Francisco Ave & B...|           429|\n",
      "| Ellis Ave & 60th St|    KA1503000014| Ellis Ave & 60th St|  KA1503000014|\n",
      "|Indiana Ave & 31s...|    TA1308000036|Indiana Ave & 31s...|  TA1308000036|\n",
      "|Public Rack - Wes...|             931|Public Rack - Wes...|           931|\n",
      "|Chicago Ave & Was...|            E002|Chicago Ave & Was...|          E002|\n",
      "|Ashland Ave & Chi...|           13247|Ashland Ave & Chi...|         13247|\n",
      "|Throop St & Taylo...|           13139|Throop St & Taylo...|         13139|\n",
      "|    Warren Park East|          RP-002|    Warren Park East|        RP-002|\n",
      "|  State St & 19th St|          SL-013|  State St & 19th St|        SL-013|\n",
      "|Lake Shore Dr & D...|    TA1309000039|DuSable Lake Shor...|  TA1309000039|\n",
      "|DuSable Lake Shor...|    TA1309000039|DuSable Lake Shor...|  TA1309000039|\n",
      "|Lawndale Ave & 11...|           20203|Lawndale Ave & 11...|         20203|\n",
      "|Jefferson St & Mo...|          WL-011|Jefferson St & Mo...|        WL-011|\n",
      "|Spaulding Ave & A...|           15650|Spaulding Ave & A...|         15650|\n",
      "|Michigan Ave & La...|    TA1305000011|Michigan Ave & La...|  TA1305000011|\n",
      "|Eastlake Ter & Ho...|             523|Eastlake Ter & Ro...|           523|\n",
      "|Eastlake Ter & Ro...|             523|Eastlake Ter & Ro...|           523|\n",
      "|Valli Produce - E...|             599|Valli Produce - E...|           599|\n",
      "|Clark St & Leland...|             326|Harlem & Irving Park|           326|\n",
      "|Harlem & Irving Park|             326|Harlem & Irving Park|           326|\n",
      "|LaSalle St & Adam...|    KA1503000034|LaSalle St & Adam...|  KA1503000034|\n",
      "|Clinton St & Polk St|           15542|Clinton St & Polk St|         15542|\n",
      "|Calumet Ave & 21s...|           15546|Calumet Ave & 21s...|         15546|\n",
      "|Southport Ave & W...|           13235|Southport Ave & W...|         13235|\n",
      "|Laramie Ave & Mad...|             540|Laramie Ave & Mad...|           540|\n",
      "| 2112 W Peterson Ave|    KA1504000155| 2112 W Peterson Ave|  KA1504000155|\n",
      "|Knox Ave & Montro...|             592|Knox Ave & Montro...|           592|\n",
      "|Troy St & Elston Ave|           15631|Troy St & Elston Ave|         15631|\n",
      "|Damen Ave & Chica...|           13132|Damen Ave & Chica...|         13132|\n",
      "|Paulina St & 18th St|    TA1307000159|Paulina St & 18th St|  TA1307000159|\n",
      "|  Daley Center Plaza|    TA1306000010|  Daley Center Plaza|  TA1306000010|\n",
      "|Dearborn St & Ada...|    TA1305000005|Dearborn St & Ada...|  TA1305000005|\n",
      "|Exchange Ave & 79...|             580|Exchange Ave & 79...|           580|\n",
      "|Central Park Ave ...|           15644|Central Park Ave ...|         15644|\n",
      "|Clark St & Randol...|    TA1305000030|Clark St & Randol...|  TA1305000030|\n",
      "|LaSalle Dr & Huro...|    KP1705001026|LaSalle Dr & Huro...|  KP1705001026|\n",
      "|Greenwood Ave & 4...|    TA1308000002|Greenwood Ave & 4...|  TA1308000002|\n",
      "|Clarendon Ave & J...|           13389|Clarendon Ave & J...|         13389|\n",
      "|Lakeview Ave & Fu...|    TA1309000019|Lakeview Ave & Fu...|  TA1309000019|\n",
      "| Morgan St & 18th St|           13163| Morgan St & 18th St|         13163|\n",
      "|Public Rack - Cal...|             512|Public Rack - Cal...|           512|\n",
      "|Lake Shore Dr & O...|    TA1306000029|McClurg Ct & Ohio St|  TA1306000029|\n",
      "|DuSable Lake Shor...|    TA1306000029|McClurg Ct & Ohio St|  TA1306000029|\n",
      "|McClurg Ct & Ohio St|    TA1306000029|McClurg Ct & Ohio St|  TA1306000029|\n",
      "|Ashland Ave & Wri...|           13296|Ashland Ave & Wri...|         13296|\n",
      "|Laflin St & Culle...|           13307|Laflin St & Culle...|         13307|\n",
      "|Ravenswood Ave & ...|    TA1309000018|Ravenswood Ave & ...|  TA1309000018|\n",
      "|Bennett Ave & 79t...|           16970|Bennett Ave & 79t...|         16970|\n",
      "|Rockwell St & Eas...|    KA1504000093|Rockwell St & Eas...|  KA1504000093|\n",
      "|Eggleston Ave & 6...|             650|Eggleston Ave & 6...|           650|\n",
      "|Southport Ave & W...|    TA1307000006|Southport Ave & W...|  TA1307000006|\n",
      "|Shields Ave & 43r...|    KA1503000001|Shields Ave & 43r...|  KA1503000001|\n",
      "|Wacker Dr & Washi...|    KA1503000072|Wacker Dr & Washi...|  KA1503000072|\n",
      "|  State St & 35th St|    TA1307000129|  State St & 35th St|  TA1307000129|\n",
      "|Oakley Ave & Irvi...|    KA1504000158|Oakley Ave & Irvi...|  KA1504000158|\n",
      "|   Steelworkers Park|           20241|   Steelworkers Park|         20241|\n",
      "|Halsted St & 35th St|    TA1308000043|Halsted St & 35th St|  TA1308000043|\n",
      "|Western Ave & Mon...|           15667|Western Ave & Mon...|         15667|\n",
      "|Wilton Ave & Belm...|    TA1307000134|Wilton Ave & Belm...|  TA1307000134|\n",
      "|Ewing Ave & Burnh...|             718|Claremont Ave & 7...|           718|\n",
      "|Kedzie Ave & Lela...|    KA1504000126|Kedzie Ave & Lela...|  KA1504000126|\n",
      "|  May St & Taylor St|           13160|  May St & Taylor St|         13160|\n",
      "+--------------------+----------------+--------------------+--------------+\n"
     ]
    }
   ],
   "source": [
    "grouped_stations_by_id.show(100)\n",
    "# TODO continue from here by grouping by station id and name, then plotting most popular stations \n"
   ],
   "metadata": {
    "collapsed": false,
    "ExecuteTime": {
     "end_time": "2024-01-31T19:46:52.344647Z",
     "start_time": "2024-01-31T19:41:42.097749Z"
    }
   },
   "id": "79434068902e8448"
  },
  {
   "cell_type": "code",
   "execution_count": null,
   "outputs": [],
   "source": [],
   "metadata": {
    "collapsed": false
   },
   "id": "4a10a38ca22a2b54"
  }
 ],
 "metadata": {
  "kernelspec": {
   "display_name": "Python 3",
   "language": "python",
   "name": "python3"
  },
  "language_info": {
   "codemirror_mode": {
    "name": "ipython",
    "version": 2
   },
   "file_extension": ".py",
   "mimetype": "text/x-python",
   "name": "python",
   "nbconvert_exporter": "python",
   "pygments_lexer": "ipython2",
   "version": "2.7.6"
  }
 },
 "nbformat": 4,
 "nbformat_minor": 5
}
