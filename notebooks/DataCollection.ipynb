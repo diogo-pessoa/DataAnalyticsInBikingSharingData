{
 "cells": [
  {
   "cell_type": "markdown",
   "source": [
    "Technical Project 1 - Bike Ride Sharing Data App\n",
    "---\n",
    "### Diogo Pessoa\n",
    "### L00179663@atu.ie"
   ],
   "metadata": {
    "collapsed": false
   },
   "id": "73dccd296bc1285b"
  },
  {
   "cell_type": "code",
   "execution_count": 14,
   "outputs": [
    {
     "data": {
      "text/plain": "\"str(object='') -> str\\nstr(bytes_or_buffer[, encoding[, errors]]) -> str\\n\\nCreate a new string object from the given object. If encoding or\\nerrors is specified, then the object must expose a data buffer\\nthat will be decoded using the given encoding and error handler.\\nOtherwise, returns the result of object.__str__() (if defined)\\nor repr(object).\\nencoding defaults to sys.getdefaultencoding().\\nerrors defaults to 'strict'.\""
     },
     "execution_count": 14,
     "metadata": {},
     "output_type": "execute_result"
    }
   ],
   "source": [
    "format(0).__doc__"
   ],
   "metadata": {
    "collapsed": false,
    "ExecuteTime": {
     "end_time": "2024-01-17T17:35:18.034340Z",
     "start_time": "2024-01-17T17:35:17.805210Z"
    }
   },
   "id": "a66c4c4480a2ad1d"
  },
  {
   "cell_type": "code",
   "execution_count": 32,
   "id": "initial_id",
   "metadata": {
    "collapsed": true,
    "ExecuteTime": {
     "end_time": "2024-01-17T19:16:33.281287Z",
     "start_time": "2024-01-17T19:16:33.248334Z"
    }
   },
   "outputs": [
    {
     "data": {
      "text/plain": "['https://divvy-tripdata.s3.amazonaws.com/202001-divvy-tripdata.zip',\n 'https://divvy-tripdata.s3.amazonaws.com/202002-divvy-tripdata.zip',\n 'https://divvy-tripdata.s3.amazonaws.com/202003-divvy-tripdata.zip',\n 'https://divvy-tripdata.s3.amazonaws.com/202004-divvy-tripdata.zip',\n 'https://divvy-tripdata.s3.amazonaws.com/202005-divvy-tripdata.zip',\n 'https://divvy-tripdata.s3.amazonaws.com/202006-divvy-tripdata.zip',\n 'https://divvy-tripdata.s3.amazonaws.com/202007-divvy-tripdata.zip',\n 'https://divvy-tripdata.s3.amazonaws.com/202008-divvy-tripdata.zip',\n 'https://divvy-tripdata.s3.amazonaws.com/202009-divvy-tripdata.zip',\n 'https://divvy-tripdata.s3.amazonaws.com/202010-divvy-tripdata.zip',\n 'https://divvy-tripdata.s3.amazonaws.com/202011-divvy-tripdata.zip',\n 'https://divvy-tripdata.s3.amazonaws.com/202012-divvy-tripdata.zip',\n 'https://divvy-tripdata.s3.amazonaws.com/202101-divvy-tripdata.zip',\n 'https://divvy-tripdata.s3.amazonaws.com/202102-divvy-tripdata.zip',\n 'https://divvy-tripdata.s3.amazonaws.com/202103-divvy-tripdata.zip',\n 'https://divvy-tripdata.s3.amazonaws.com/202104-divvy-tripdata.zip',\n 'https://divvy-tripdata.s3.amazonaws.com/202105-divvy-tripdata.zip',\n 'https://divvy-tripdata.s3.amazonaws.com/202106-divvy-tripdata.zip',\n 'https://divvy-tripdata.s3.amazonaws.com/202107-divvy-tripdata.zip',\n 'https://divvy-tripdata.s3.amazonaws.com/202108-divvy-tripdata.zip',\n 'https://divvy-tripdata.s3.amazonaws.com/202109-divvy-tripdata.zip',\n 'https://divvy-tripdata.s3.amazonaws.com/202110-divvy-tripdata.zip',\n 'https://divvy-tripdata.s3.amazonaws.com/202111-divvy-tripdata.zip',\n 'https://divvy-tripdata.s3.amazonaws.com/202112-divvy-tripdata.zip',\n 'https://divvy-tripdata.s3.amazonaws.com/202201-divvy-tripdata.zip',\n 'https://divvy-tripdata.s3.amazonaws.com/202202-divvy-tripdata.zip',\n 'https://divvy-tripdata.s3.amazonaws.com/202203-divvy-tripdata.zip',\n 'https://divvy-tripdata.s3.amazonaws.com/202204-divvy-tripdata.zip',\n 'https://divvy-tripdata.s3.amazonaws.com/202205-divvy-tripdata.zip',\n 'https://divvy-tripdata.s3.amazonaws.com/202206-divvy-tripdata.zip',\n 'https://divvy-tripdata.s3.amazonaws.com/202207-divvy-tripdata.zip',\n 'https://divvy-tripdata.s3.amazonaws.com/202208-divvy-tripdata.zip',\n 'https://divvy-tripdata.s3.amazonaws.com/202209-divvy-tripdata.zip',\n 'https://divvy-tripdata.s3.amazonaws.com/202210-divvy-tripdata.zip',\n 'https://divvy-tripdata.s3.amazonaws.com/202211-divvy-tripdata.zip',\n 'https://divvy-tripdata.s3.amazonaws.com/202212-divvy-tripdata.zip',\n 'https://divvy-tripdata.s3.amazonaws.com/202301-divvy-tripdata.zip',\n 'https://divvy-tripdata.s3.amazonaws.com/202302-divvy-tripdata.zip',\n 'https://divvy-tripdata.s3.amazonaws.com/202303-divvy-tripdata.zip',\n 'https://divvy-tripdata.s3.amazonaws.com/202304-divvy-tripdata.zip',\n 'https://divvy-tripdata.s3.amazonaws.com/202305-divvy-tripdata.zip',\n 'https://divvy-tripdata.s3.amazonaws.com/202306-divvy-tripdata.zip',\n 'https://divvy-tripdata.s3.amazonaws.com/202307-divvy-tripdata.zip',\n 'https://divvy-tripdata.s3.amazonaws.com/202308-divvy-tripdata.zip',\n 'https://divvy-tripdata.s3.amazonaws.com/202309-divvy-tripdata.zip',\n 'https://divvy-tripdata.s3.amazonaws.com/202310-divvy-tripdata.zip',\n 'https://divvy-tripdata.s3.amazonaws.com/202311-divvy-tripdata.zip',\n 'https://divvy-tripdata.s3.amazonaws.com/202312-divvy-tripdata.zip']"
     },
     "execution_count": 32,
     "metadata": {},
     "output_type": "execute_result"
    }
   ],
   "source": [
    "# Crawling index page\n",
    "\n",
    "\"\"\"\n",
    "This section assumes the file naming convention pattern based on visual review of https://divvy-tripdata.s3.amazonaws.com/index.html shared by Divvy.\n",
    " \n",
    " On the next few lines we'll build a list for files for the list of years. \n",
    "    https://divvy-tripdata.s3.amazonaws.com/<year><month>-divvy-tripdata.zip\n",
    "    \n",
    " The endpoint doesn't require authentication, thence this is a simple GET request to download the data. \n",
    " The code will add validation (Try, Catch) based on the response Code to avoid interruptions. \n",
    "   \n",
    "\"\"\"\n",
    "url = \"https://divvy-tripdata.s3.amazonaws.com/\"\n",
    "year = [2020, 2021, 2022, 2023]\n",
    "zip_files_url_list = [f\"https://divvy-tripdata.s3.amazonaws.com/{y}{m:02d}-divvy-tripdata.zip\" for y in year for m in range(1, 13)]\n",
    "\n",
    "zip_files_url_list # Resulting list of zip files url.\n"
   ]
  },
  {
   "cell_type": "markdown",
   "source": [
    "Pull files from Divvy AWS S3 Bucket\n",
    "---"
   ],
   "metadata": {
    "collapsed": false
   },
   "id": "f96c526ff8fdbe53"
  },
  {
   "cell_type": "code",
   "execution_count": 39,
   "outputs": [
    {
     "name": "stdout",
     "output_type": "stream",
     "text": [
      "loading data for file: 202004-divvy-tripdata.zip\n",
      "/Users/macbook/code/BigdataAnalyticsPG2023/TechProject1/Notebooks\n"
     ]
    }
   ],
   "source": [
    "import requests\n",
    "import os\n",
    "\n",
    "# List of urls \n",
    "zip_files_url_list\n",
    "\n",
    "# local path\n",
    "local_data_path = '/Users/macbook/code/BigdataAnalyticsPG2023/TechProject1/data'\n",
    "\n",
    "for file_url in zip_files_url_list:\n",
    "    try:\n",
    "        \n",
    "        file_name = file_url.split('/')[-1]\n",
    "        print(f'loading data for file: {file_name}')\n",
    "        # print(os.getcwd())\n",
    "        # TODO  Check if file already exists before pulling zip file request\n",
    "        \n",
    "        r = requests.get(file_url, stream=True)\n",
    "        if not r.status_code == 200:\n",
    "            continue\n",
    "\n",
    "        with open(os.path.join(local_data_path, file_name), 'wb') as f:\n",
    "            f.write(r.content)\n",
    "    except requests.exceptions.RequestException as e:\n",
    "        raise SystemExit(e)"
   ],
   "metadata": {
    "collapsed": false,
    "ExecuteTime": {
     "end_time": "2024-01-17T20:02:46.262657Z",
     "start_time": "2024-01-17T20:02:43.209391Z"
    }
   },
   "id": "c06f5276793491e"
  },
  {
   "cell_type": "markdown",
   "source": [
    "Extract from ZipFile\n",
    "----"
   ],
   "metadata": {
    "collapsed": false
   },
   "id": "8b57156ccd608ca8"
  },
  {
   "cell_type": "code",
   "execution_count": 40,
   "outputs": [
    {
     "name": "stdout",
     "output_type": "stream",
     "text": [
      "Extracted: 202004-divvy-tripdata.zip\n",
      "All zip files extracted.\n"
     ]
    }
   ],
   "source": [
    "import os\n",
    "import zipfile\n",
    "\n",
    "# # Iterate over all files in the directory\n",
    "for filename in os.listdir(local_data_path):\n",
    "    if filename.endswith('.zip'):\n",
    "#         # Construct the full path to the file\n",
    "        file_path = os.path.join(local_data_path, filename)\n",
    "#         # Open the zip file\n",
    "        with zipfile.ZipFile(file_path, 'r') as zip_ref:\n",
    "            # Extract all the contents into the directory\n",
    "            zip_ref.extractall(local_data_path)\n",
    "            print(f\"Extracted: {filename}\")\n",
    "print(\"All zip files extracted.\")"
   ],
   "metadata": {
    "collapsed": false,
    "ExecuteTime": {
     "end_time": "2024-01-17T20:07:29.427687Z",
     "start_time": "2024-01-17T20:07:29.271570Z"
    }
   },
   "id": "c08c20858b8a408c"
  },
  {
   "cell_type": "markdown",
   "source": [
    "Load csv into Apache Spark DataFrames\n",
    "---"
   ],
   "metadata": {
    "collapsed": false
   },
   "id": "466d4ca20cf7fd6"
  },
  {
   "cell_type": "code",
   "execution_count": 41,
   "outputs": [
    {
     "name": "stderr",
     "output_type": "stream",
     "text": [
      "Setting default log level to \"WARN\".\n",
      "To adjust logging level use sc.setLogLevel(newLevel). For SparkR, use setLogLevel(newLevel).\n",
      "24/01/17 20:14:23 WARN NativeCodeLoader: Unable to load native-hadoop library for your platform... using builtin-java classes where applicable\n",
      "                                                                                \r"
     ]
    },
    {
     "name": "stdout",
     "output_type": "stream",
     "text": [
      "+----------------+-------------+-------------------+-------------------+--------------------+----------------+--------------------+--------------+---------+---------+-------+--------+-------------+\n",
      "|         ride_id|rideable_type|         started_at|           ended_at|  start_station_name|start_station_id|    end_station_name|end_station_id|start_lat|start_lng|end_lat| end_lng|member_casual|\n",
      "+----------------+-------------+-------------------+-------------------+--------------------+----------------+--------------------+--------------+---------+---------+-------+--------+-------------+\n",
      "|A847FADBBC638E45|  docked_bike|2020-04-26 17:45:14|2020-04-26 18:12:03|        Eckhart Park|              86|Lincoln Ave & Div...|           152|  41.8964|  -87.661|41.9322|-87.6586|       member|\n",
      "|5405B80E996FF60D|  docked_bike|2020-04-17 17:08:54|2020-04-17 17:17:03|Drake Ave & Fulle...|             503|     Kosciuszko Park|           499|  41.9244| -87.7154|41.9306|-87.7238|       member|\n",
      "|5DD24A79A4E006F4|  docked_bike|2020-04-01 17:54:13|2020-04-01 18:08:36|McClurg Ct & Erie St|             142|Indiana Ave & Roo...|           255|  41.8945| -87.6179|41.8679| -87.623|       member|\n",
      "|2A59BBDF5CDBA725|  docked_bike|2020-04-07 12:50:19|2020-04-07 13:02:31|California Ave & ...|             216|Wood St & Augusta...|           657|   41.903| -87.6975|41.8992|-87.6722|       member|\n",
      "|27AD306C119C6158|  docked_bike|2020-04-18 10:22:59|2020-04-18 11:15:54|Rush St & Hubbard St|             125|Sheridan Rd & Law...|           323|  41.8902| -87.6262|41.9695|-87.6547|       casual|\n",
      "|356216E875132F61|  docked_bike|2020-04-30 17:55:47|2020-04-30 18:01:11|Mies van der Rohe...|             173|Streeter Dr & Gra...|            35|  41.8969| -87.6217|41.8923| -87.612|       member|\n",
      "|A2759CB06A81F2BC|  docked_bike|2020-04-02 14:47:19|2020-04-02 14:52:32|Streeter Dr & Gra...|              35|Fairbanks St & Su...|           635|  41.8923|  -87.612|41.8957|-87.6201|       member|\n",
      "|FC8BC2E2D54F35ED|  docked_bike|2020-04-07 12:22:20|2020-04-07 13:38:09|Ogden Ave & Roose...|             434|Western Ave & Con...|           382|  41.8665| -87.6847|41.8747|-87.6864|       casual|\n",
      "|9EC5648678DE06E6|  docked_bike|2020-04-15 10:30:11|2020-04-15 10:35:55|LaSalle Dr & Huro...|             627|Larrabee St & Div...|           359|  41.8949| -87.6323|41.9035|-87.6434|       casual|\n",
      "|A8FFF89140C33017|  docked_bike|2020-04-04 15:02:28|2020-04-04 15:19:47|Kedzie Ave & Lake St|             377|Central Park Ave ...|           508|  41.8846| -87.7063|41.9097|-87.7166|       member|\n",
      "|788B1BB8A7491EBD|  docked_bike|2020-04-04 15:22:43|2020-04-04 15:46:55|Central Park Ave ...|             508|Western Ave & Wal...|           374|  41.9097| -87.7166|41.8984|-87.6866|       member|\n",
      "|C83C113858BA06DA|  docked_bike|2020-04-25 15:43:52|2020-04-25 15:48:45|Western Ave & Wal...|             374|Damen Ave & Chica...|           128|  41.8984| -87.6866|41.8958|-87.6772|       member|\n",
      "|D2038D92195BDD67|  docked_bike|2020-04-24 18:09:43|2020-04-24 18:18:01|Western Ave & Wal...|             374|Ashland Ave & Div...|           210|  41.8984| -87.6866|41.9035|-87.6677|       member|\n",
      "|C554B4E072B077F8|  docked_bike|2020-04-11 17:15:19|2020-04-11 17:19:53|Western Ave & Wal...|             374|Damen Ave & Chica...|           128|  41.8984| -87.6866|41.8958|-87.6772|       member|\n",
      "|F962D972BC1EF3F0|  docked_bike|2020-04-20 17:18:50|2020-04-20 17:42:51| Wabash Ave & 9th St|             321|Michigan Ave & 8t...|           623|  41.8708| -87.6257|41.8728| -87.624|       member|\n",
      "|1DDBC1F4D208C2B3|  docked_bike|2020-04-18 15:49:26|2020-04-18 16:24:57| Wabash Ave & 9th St|             321|Sheffield Ave & K...|            20|  41.8708| -87.6257|41.9105|-87.6531|       member|\n",
      "|AA1C8D93190BB6A9|  docked_bike|2020-04-19 13:39:57|2020-04-19 14:01:39| Wabash Ave & 9th St|             321|Clark St & Lincol...|           141|  41.8708| -87.6257|41.9157|-87.6346|       member|\n",
      "|B0EEA4FBCF6E26A3|  docked_bike|2020-04-18 02:59:09|2020-04-18 03:07:22|Leavitt St & Arch...|               9|Leavitt St & Arch...|             9|  41.8288| -87.6806|41.8288|-87.6806|       casual|\n",
      "|5F2A5CC2510F0396|  docked_bike|2020-04-04 10:52:08|2020-04-04 11:08:03|Clark St & Lincol...|             141|Southport Ave & W...|           190|  41.9157| -87.6346|41.9288|-87.6639|       casual|\n",
      "|BEF186AA6B3DD4CC|  docked_bike|2020-04-25 12:32:30|2020-04-25 12:38:24|   900 W Harrison St|             109|Aberdeen St & Ran...|           621|  41.8748| -87.6498|41.8841|-87.6543|       member|\n",
      "+----------------+-------------+-------------------+-------------------+--------------------+----------------+--------------------+--------------+---------+---------+-------+--------+-------------+\n",
      "only showing top 20 rows\n",
      "\n",
      "root\n",
      " |-- ride_id: string (nullable = true)\n",
      " |-- rideable_type: string (nullable = true)\n",
      " |-- started_at: string (nullable = true)\n",
      " |-- ended_at: string (nullable = true)\n",
      " |-- start_station_name: string (nullable = true)\n",
      " |-- start_station_id: string (nullable = true)\n",
      " |-- end_station_name: string (nullable = true)\n",
      " |-- end_station_id: string (nullable = true)\n",
      " |-- start_lat: string (nullable = true)\n",
      " |-- start_lng: string (nullable = true)\n",
      " |-- end_lat: string (nullable = true)\n",
      " |-- end_lng: string (nullable = true)\n",
      " |-- member_casual: string (nullable = true)\n"
     ]
    }
   ],
   "source": [
    "from pyspark.sql import SparkSession\n",
    "\n",
    "spark = SparkSession.builder.appName(\"Load CSVs\").getOrCreate()    \n",
    "# # Read the CSV file into a DataFrame\n",
    "df = spark.read.csv(local_data_path, header=True)\n",
    "#  TODO Build Schema, based on column data-types\n",
    "df.show()\n",
    "df.printSchema()\n",
    "\n",
    "# Create & upload a text file.\n",
    "# uploaded = drive.CreateFile({'title': 'Sample file.txt'})\n",
    "# uploaded.SetContentString('Sample upload file content')\n",
    "# uploaded.Upload()\n",
    "# print('Uploaded file with ID {}'.format(uploaded.get('id')))\n",
    "# '/content/drive/MyDrive/Colab Notebooks/BDA_PracticalProject/divvyData'"
   ],
   "metadata": {
    "collapsed": false,
    "ExecuteTime": {
     "end_time": "2024-01-17T20:14:40.268504Z",
     "start_time": "2024-01-17T20:13:57.520518Z"
    }
   },
   "id": "ab24ecc1a099a003"
  },
  {
   "cell_type": "code",
   "execution_count": null,
   "outputs": [],
   "source": [],
   "metadata": {
    "collapsed": false
   },
   "id": "27d5bcae437b4f8f"
  }
 ],
 "metadata": {
  "kernelspec": {
   "display_name": "Python 3",
   "language": "python",
   "name": "python3"
  },
  "language_info": {
   "codemirror_mode": {
    "name": "ipython",
    "version": 2
   },
   "file_extension": ".py",
   "mimetype": "text/x-python",
   "name": "python",
   "nbconvert_exporter": "python",
   "pygments_lexer": "ipython2",
   "version": "2.7.6"
  }
 },
 "nbformat": 4,
 "nbformat_minor": 5
}
